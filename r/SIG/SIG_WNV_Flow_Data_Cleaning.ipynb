{
 "cells": [
  {
   "cell_type": "markdown",
   "metadata": {},
   "source": [
    "# Systems Immunogenetics Project\n",
    "\n",
    "## WNV Flow Cytometry Data Cleaning Workflow\n",
    "\n",
    "### McWeeney Lab, Oregon Health & Science University\n",
    "\n",
    "#### Author: Michael Mooney (mooneymi@ohsu.edu)"
   ]
  },
  {
   "cell_type": "markdown",
   "metadata": {},
   "source": [
    "## Introduction\n",
    "\n",
    "This document will walk through...\n",
    "\n",
    "Required Files:\n",
    "\n",
    "- This notebook (`SIG_WNV_Flow_Data_Cleaning.ipynb`): [Download by clicking the button at the top right of the screen]\n",
    "- The R script `flow_data_cleaning_functions.r`: [[Download R script here]](https://raw.githubusercontent.com/mooneymi/jupyter_notebooks/master/r/SIG/flow_data_cleaning_functions.r)\n",
    "- The text file containing all flow variables (`final_flow.txt`): [[Download here]]()\n",
    "\n",
    "** Note: this notebook can also be downloaded as a typical R script (only the code blocks seen below will be included): [[Download R script here]]()\n",
    "\n",
    "If you are not familiar with Jupyter Notebooks, I've created a short tutorial to get you up-and-running quickly. There is also plenty of documentation online:\n",
    "\n",
    "1. [Jupyter for R Tutorial]()\n",
    "2. [Jupyter Documentation](http://jupyter.org/)\n",
    "3. [Conda and R](https://www.continuum.io/conda-for-r)\n",
    "\n",
    "#### Up Next: Plotting Flow Cytometry Data\n",
    "\n",
    "After finishing this workflow you will have a cleaned dataset ready for exploration and analysis. A notebook with code examples for plotting the data (including interactive plots created with the Shiny library) is available: [Plotting Flow Cytometry Data]() "
   ]
  },
  {
   "cell_type": "markdown",
   "metadata": {},
   "source": [
    "## Step 1. Prepare the Input Files\n",
    "\n",
    "1. Remove special characters"
   ]
  },
  {
   "cell_type": "markdown",
   "metadata": {},
   "source": [
    "## Step 2. Load the Necessary R Libraries and Functions\n",
    "\n",
    "There are a number of functions in the accompanying R script (`flow_data_cleaning_functions.r`) necessary for parsing and then processing the flow cytometry data:\n",
    "\n",
    "1. `read_flow_exp_file()`: Parses a flow spreadsheet and creates an R dataframe.\n",
    "2. `fix_column_names()`: Standardizes the column names of the above dataframe.\n",
    "3. Functions for calculating cell counts and ratios:\n",
    "    - `calc_treg_counts()`\n",
    "    - `calc_tcell_counts()`\n",
    "    - `calc_ics_counts()`\n",
    "    - `calc_ics_percent_ratios()`\n",
    "    - `calc_ics_count_ratios()`\n",
    "4. `clean_inf_nan()`: Sets any infinite or NaN values to NA.\n",
    "\n",
    "More information on each of these functions is available by calling the `describe()` function. For example, the following command will print documentation for the `read_flow_exp_file()` function:\n",
    "\n",
    "    describe(read_flow_exp_file)"
   ]
  },
  {
   "cell_type": "code",
   "execution_count": 2,
   "metadata": {
    "collapsed": false
   },
   "outputs": [],
   "source": [
    "## Load functions for parsing the flow cytometry spreadsheets\n",
    "## The gdata library is necessary for reading Excel spreadsheets; it will be loaded as well.\n",
    "source('flow_data_cleaning_functions.r')"
   ]
  },
  {
   "cell_type": "code",
   "execution_count": 3,
   "metadata": {
    "collapsed": false
   },
   "outputs": [
    {
     "name": "stdout",
     "output_type": "stream",
     "text": [
      "\n",
      "This function parses flow cytometry data from an Excel workbook.\n",
      "\n",
      "Parameters\n",
      "f: The Excel file name.\n",
      "cn_expected: A character vector containing the expected column names.\n",
      "\n",
      "Returns\n",
      "A dataframe containing the processed flow cytometry data.\n",
      "\n"
     ]
    }
   ],
   "source": [
    "## View help documentation\n",
    "describe(read_flow_exp_file)"
   ]
  },
  {
   "cell_type": "markdown",
   "metadata": {},
   "source": [
    "## Step 3. Read the Data into R"
   ]
  },
  {
   "cell_type": "code",
   "execution_count": null,
   "metadata": {
    "collapsed": true
   },
   "outputs": [],
   "source": [
    "## First move to the directory holding the data\n",
    "flow_dir = \"~/Documents/MyDocuments/SystemsImmunogenetics/WNV/Lund_Flow_fixed_Nov_13\"\n",
    "setwd(flow_dir)"
   ]
  },
  {
   "cell_type": "code",
   "execution_count": null,
   "metadata": {
    "collapsed": true
   },
   "outputs": [],
   "source": [
    "## Get a list of data files to read\n",
    "flow_files = list.files('.', pattern=\"Expt.*\\\\.xls\")\n",
    "\n",
    "## Load all expected flow variables (expected column names)\n",
    "flow_cn = read.delim('./data/final_flow.txt', sep='\\t', as.is=T, header=F)\n",
    "flow_cn = flow_cn[,1]"
   ]
  },
  {
   "cell_type": "code",
   "execution_count": null,
   "metadata": {
    "collapsed": true
   },
   "outputs": [],
   "source": [
    "## Iterate through all the files, parse each, and merge all data into a single dataframe\n",
    "i = 1\n",
    "for (file in flow_files) {\n",
    "    print(file)\n",
    "    flow_dat = read_flow_exp_file(file, flow_cn)\n",
    "    \n",
    "    ## Check if there are any unexpected columns\n",
    "    new_columns = setdiff(colnames(flow_dat), flow_cn)\n",
    "    if (length(new_columns) > 0) {\n",
    "        flow_cn = c(flow_cn, new_columns)\n",
    "    }\n",
    "    if (i > 1) {\n",
    "        ## Fill extra columns with NAs\n",
    "        for (col in new_columns) {\n",
    "            flow_all[,col] = NA\n",
    "        }\n",
    "        ## Merge data\n",
    "        flow_all = rbind(flow_all[,flow_cn], flow_dat[,flow_cn])\n",
    "    } else {\n",
    "        flow_all = flow_dat\n",
    "    }\n",
    "    i = i + 1\n",
    "}"
   ]
  },
  {
   "cell_type": "code",
   "execution_count": null,
   "metadata": {
    "collapsed": true
   },
   "outputs": [],
   "source": [
    "## Check that all expected columns are present\n",
    "setdiff(flow_cn, colnames(flow_all))\n",
    "setdiff(colnames(flow_all), flow_cn)"
   ]
  },
  {
   "cell_type": "markdown",
   "metadata": {},
   "source": [
    "## Step 4. Clean and Reformat the Data"
   ]
  },
  {
   "cell_type": "code",
   "execution_count": null,
   "metadata": {
    "collapsed": true
   },
   "outputs": [],
   "source": [
    "## Order columns, add Lab column and fix formatting\n",
    "flow_all = flow_all[, flow_cn]\n",
    "flow_all$Lab = \"Lund\"\n",
    "\n",
    "flow_all$ID = gsub(\" \", \"\", flow_all$ID)\n",
    "flow_all$ID = gsub(\"X\", \"x\", flow_all$ID)\n",
    "flow_all$Mating = gsub(\" \", \"\", flow_all$Mating)\n",
    "flow_all$Mating = gsub(\"X\", \"x\", flow_all$Mating) \n",
    "flow_all$UW_Line = as.numeric(flow_all$UW_Line)"
   ]
  },
  {
   "cell_type": "code",
   "execution_count": null,
   "metadata": {
    "collapsed": true
   },
   "outputs": [],
   "source": [
    "## Check for duplicate IDs\n",
    "new_flow_ids = paste(flow_all$ID, flow_all$Tissue, sep='_')\n",
    "sum(duplicated(new_flow_ids))"
   ]
  },
  {
   "cell_type": "markdown",
   "metadata": {},
   "source": [
    "## Step 5. Calculate Cell Counts and Ratios"
   ]
  },
  {
   "cell_type": "code",
   "execution_count": null,
   "metadata": {
    "collapsed": true
   },
   "outputs": [],
   "source": [
    "## Change all data columns to numeric\n",
    "for (i in 11:277) {\n",
    "    flow_all[,i] = as.numeric(flow_all[,i])\n",
    "}"
   ]
  },
  {
   "cell_type": "code",
   "execution_count": null,
   "metadata": {
    "collapsed": true
   },
   "outputs": [],
   "source": [
    "## Calculate cell counts and ratios\n",
    "flow_full = flow_all\n",
    "flow_full = calc_treg_counts(flow_full)\n",
    "flow_full = calc_tcell_counts(flow_full)\n",
    "flow_full = calc_ics_counts(flow_full)\n",
    "flow_full = calc_ics_percent_ratios(flow_full)\n",
    "flow_full = calc_ics_count_ratios(flow_full)\n",
    "flow_full = clean_inf_nan(flow_full)"
   ]
  },
  {
   "cell_type": "markdown",
   "metadata": {},
   "source": [
    "## Step 6. Save the Data"
   ]
  },
  {
   "cell_type": "code",
   "execution_count": null,
   "metadata": {
    "collapsed": true
   },
   "outputs": [],
   "source": [
    "## Save R data file\n",
    "save(flow_full, file='lund_flow_full_11-jan-2016_final.rda')"
   ]
  },
  {
   "cell_type": "markdown",
   "metadata": {},
   "source": [
    "### Up Next: Plotting Flow Cytometry Data\n",
    "\n",
    "Code for plotting this data is available here: [[Flow Data Plotting Workflow]]()"
   ]
  }
 ],
 "metadata": {
  "kernelspec": {
   "display_name": "R",
   "language": "R",
   "name": "ir"
  },
  "language_info": {
   "codemirror_mode": "r",
   "file_extension": ".r",
   "mimetype": "text/x-r-source",
   "name": "R",
   "pygments_lexer": "r",
   "version": "3.1.3"
  }
 },
 "nbformat": 4,
 "nbformat_minor": 0
}
