{
 "metadata": {
  "name": "",
  "signature": "sha256:aa5c7d6686f200bc12507280a12cc3c11f6b12f9b3260f54a66d43ec08131528"
 },
 "nbformat": 3,
 "nbformat_minor": 0,
 "worksheets": [
  {
   "cells": [
    {
     "cell_type": "heading",
     "level": 1,
     "metadata": {},
     "source": [
      "BMI565: Bioinformatics Programming & Scripting"
     ]
    },
    {
     "cell_type": "heading",
     "level": 4,
     "metadata": {},
     "source": [
      "(C) 2014 Michael Mooney (mooneymi@ohsu.edu)<br /><br />\n",
      "Last Updated: 27-Jun-2014"
     ]
    },
    {
     "cell_type": "heading",
     "level": 2,
     "metadata": {},
     "source": [
      "Week 1: Documentation, Data Types, and Operators"
     ]
    },
    {
     "cell_type": "markdown",
     "metadata": {},
     "source": [
      "1. Help, Documentation, Code Organization\n",
      "    1. Help\n",
      "    2. Comments and Docstrings\n",
      "2. None and Numeric Data Types\n",
      "    1. Numeric Operators\n",
      "3. Logical Data Types\n",
      "    1. Logical and Comparison Operators\n",
      "4. Sequence Data Types\n",
      "    1. Lists\n",
      "    2. Tuples\n",
      "    3. Strings\n",
      "    4. String Formatting\n",
      "5. Mapping Data Types\n",
      "    1. Dictionaries"
     ]
    },
    {
     "cell_type": "heading",
     "level": 3,
     "metadata": {},
     "source": [
      "Python Help"
     ]
    },
    {
     "cell_type": "markdown",
     "metadata": {},
     "source": [
      "Python's help() function can provide documentation about functions, modules, methods, etc. \n",
      "\n",
      "<a href=\"https://docs.python.org/2/\">Python's Online Documentation</a> is a great resource. \n",
      "\n",
      "And, of course, Google will provide plenty of information, examples, etc."
     ]
    },
    {
     "cell_type": "code",
     "collapsed": false,
     "input": [
      "help(len)"
     ],
     "language": "python",
     "metadata": {},
     "outputs": [
      {
       "output_type": "stream",
       "stream": "stdout",
       "text": [
        "Help on built-in function len in module __builtin__:\n",
        "\n",
        "len(...)\n",
        "    len(object) -> integer\n",
        "    \n",
        "    Return the number of items of a sequence or mapping.\n",
        "\n"
       ]
      }
     ],
     "prompt_number": 3
    },
    {
     "cell_type": "heading",
     "level": 3,
     "metadata": {},
     "source": [
      "Comments:  Please use them!"
     ]
    },
    {
     "cell_type": "markdown",
     "metadata": {},
     "source": [
      "Comments are text or code that is not executed by the Python interpretor. Comments can be created by placing a hash (#) symbol before a line of code or text, or by surrounding multiple lines of text with \"\"\". \n",
      "\n",
      "Comments can be purely descriptive (e.g. used to explain how code works), but can also serve a purpose when testing or debugging code. For instance, commenting out sections of your code can help you narrow down where an error is occuring.\n",
      "\n",
      "It is a good idea to write descriptive comments as you code, rather than going back after code is already written. Please use comments thoroughly so it is easy for others to interpret your code. \n",
      "\n",
      "All code submitted for homework assignments should include a comment block at the top of the file that includes the following information:\n",
      "\n",
      "\\# Your Name<br />\n",
      "\\# Assignment Number<br />\n",
      "\\# Date Submitted/Written<br />\n",
      "\\# A short description of what the code does<br />\n",
      "\\# An example of how the script should be run"
     ]
    },
    {
     "cell_type": "code",
     "collapsed": false,
     "input": [
      "print \"Hello\"\n",
      "#print \"Good-bye\""
     ],
     "language": "python",
     "metadata": {},
     "outputs": [
      {
       "output_type": "stream",
       "stream": "stdout",
       "text": [
        "Hello\n"
       ]
      }
     ],
     "prompt_number": 7
    },
    {
     "cell_type": "heading",
     "level": 3,
     "metadata": {},
     "source": [
      "Docstrings"
     ]
    },
    {
     "cell_type": "markdown",
     "metadata": {},
     "source": [
      "Docstrings are a good way to document your code. A docstring is a string literal that occurs as the first statement in a module, function, class or method definition. The info in a docstring will be displayed when help() is called on the function, module, etc."
     ]
    },
    {
     "cell_type": "code",
     "collapsed": false,
     "input": [
      "def hello_world(n=1):\n",
      "    \"\"\"\n",
      "    This function prints the message \"Hello, world!\" a specified number of times.\n",
      "    \"\"\"\n",
      "    for i in range(n):\n",
      "        print \"Hello, world!\"\n"
     ],
     "language": "python",
     "metadata": {},
     "outputs": [],
     "prompt_number": 14
    },
    {
     "cell_type": "code",
     "collapsed": false,
     "input": [
      "hello_world(2)"
     ],
     "language": "python",
     "metadata": {},
     "outputs": [
      {
       "output_type": "stream",
       "stream": "stdout",
       "text": [
        "Hello, world!\n",
        "Hello, world!\n"
       ]
      }
     ],
     "prompt_number": 15
    },
    {
     "cell_type": "code",
     "collapsed": false,
     "input": [
      "help(hello_world)"
     ],
     "language": "python",
     "metadata": {},
     "outputs": [
      {
       "output_type": "stream",
       "stream": "stdout",
       "text": [
        "Help on function hello_world in module __main__:\n",
        "\n",
        "hello_world(n=1)\n",
        "    This function prints the message \"Hello, world!\" a specified number of times.\n",
        "\n"
       ]
      }
     ],
     "prompt_number": 16
    },
    {
     "cell_type": "heading",
     "level": 3,
     "metadata": {},
     "source": [
      "None and Logical Values"
     ]
    },
    {
     "cell_type": "markdown",
     "metadata": {},
     "source": [
      "None is the Python NULL value. NONE or none will not be interpreted as the None value.\n",
      "\n",
      "None is the default return value for Python functions (e.g. when no return value is specified)."
     ]
    },
    {
     "cell_type": "code",
     "collapsed": false,
     "input": [
      "x = hello_world()"
     ],
     "language": "python",
     "metadata": {},
     "outputs": [
      {
       "output_type": "stream",
       "stream": "stdout",
       "text": [
        "Hello, world!\n"
       ]
      }
     ],
     "prompt_number": 20
    },
    {
     "cell_type": "code",
     "collapsed": false,
     "input": [
      "if x == None:\n",
      "    # This usually works\n",
      "    print \"x == None\"\n",
      "if x is None:\n",
      "    # But this is the prefered way to compare to None\n",
      "    print \"x is None\"\n"
     ],
     "language": "python",
     "metadata": {},
     "outputs": [
      {
       "output_type": "stream",
       "stream": "stdout",
       "text": [
        "x == None\n",
        "x is None\n"
       ]
      }
     ],
     "prompt_number": 24
    },
    {
     "cell_type": "markdown",
     "metadata": {},
     "source": [
      "Logical values are specified with True or False. Again, these values must be specified exactly as True or False (e.g. not TRUE or FALSE)."
     ]
    },
    {
     "cell_type": "code",
     "collapsed": false,
     "input": [
      "x = True\n",
      "if x:\n",
      "    print \"True\"\n",
      "\n",
      "if not x:\n",
      "    print \"False\""
     ],
     "language": "python",
     "metadata": {},
     "outputs": [
      {
       "output_type": "stream",
       "stream": "stdout",
       "text": [
        "True\n"
       ]
      }
     ],
     "prompt_number": 26
    },
    {
     "cell_type": "heading",
     "level": 3,
     "metadata": {},
     "source": [
      "Logical Operators"
     ]
    },
    {
     "cell_type": "code",
     "collapsed": false,
     "input": [
      "True and False or (True and not False)"
     ],
     "language": "python",
     "metadata": {},
     "outputs": [
      {
       "metadata": {},
       "output_type": "pyout",
       "prompt_number": 30,
       "text": [
        "True"
       ]
      }
     ],
     "prompt_number": 30
    },
    {
     "cell_type": "code",
     "collapsed": false,
     "input": [
      "all([True, True, False])"
     ],
     "language": "python",
     "metadata": {},
     "outputs": [
      {
       "metadata": {},
       "output_type": "pyout",
       "prompt_number": 28,
       "text": [
        "False"
       ]
      }
     ],
     "prompt_number": 28
    },
    {
     "cell_type": "code",
     "collapsed": false,
     "input": [
      "any([False, False, True])"
     ],
     "language": "python",
     "metadata": {},
     "outputs": [
      {
       "metadata": {},
       "output_type": "pyout",
       "prompt_number": 29,
       "text": [
        "True"
       ]
      }
     ],
     "prompt_number": 29
    },
    {
     "cell_type": "heading",
     "level": 3,
     "metadata": {},
     "source": [
      "Numeric Data Types"
     ]
    },
    {
     "cell_type": "markdown",
     "metadata": {},
     "source": [
      "int - Integer: 32-bit precision <br />\n",
      "float - Float: <br />\n",
      "long - Long: <br />\n",
      "complex - Imaginary numbers: these have .real and .imag components"
     ]
    },
    {
     "cell_type": "heading",
     "level": 3,
     "metadata": {},
     "source": [
      "Numeric Operators"
     ]
    },
    {
     "cell_type": "code",
     "collapsed": false,
     "input": [],
     "language": "python",
     "metadata": {},
     "outputs": []
    }
   ],
   "metadata": {}
  }
 ]
}